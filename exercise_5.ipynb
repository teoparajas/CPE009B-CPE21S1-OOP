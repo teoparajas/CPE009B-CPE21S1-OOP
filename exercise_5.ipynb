{
  "nbformat": 4,
  "nbformat_minor": 0,
  "metadata": {
    "colab": {
      "provenance": [],
      "authorship_tag": "ABX9TyNgFBsHoNXJjOJfSMs5Rfwk",
      "include_colab_link": true
    },
    "kernelspec": {
      "name": "python3",
      "display_name": "Python 3"
    },
    "language_info": {
      "name": "python"
    }
  },
  "cells": [
    {
      "cell_type": "markdown",
      "metadata": {
        "id": "view-in-github",
        "colab_type": "text"
      },
      "source": [
        "<a href=\"https://colab.research.google.com/github/teoparajas/ParajasCPE009B-CPE21S1-OOP2/blob/main/exercise_5.ipynb\" target=\"_parent\"><img src=\"https://colab.research.google.com/assets/colab-badge.svg\" alt=\"Open In Colab\"/></a>"
      ]
    },
    {
      "cell_type": "markdown",
      "source": [
        "**NOTES**"
      ],
      "metadata": {
        "id": "hslinhBpUJLW"
      }
    },
    {
      "cell_type": "code",
      "execution_count": 10,
      "metadata": {
        "colab": {
          "base_uri": "https://localhost:8080/"
        },
        "id": "hUZ9zunYQ6XQ",
        "outputId": "411e07cb-d874-4a2c-a7a2-a41619e394b8"
      },
      "outputs": [
        {
          "output_type": "stream",
          "name": "stdout",
          "text": [
            "As a student, I do  Studying, Playing, SInging, Dancing\n",
            "As a teacher, I do Teaching, Encoding, Socializing, Participating\n"
          ]
        }
      ],
      "source": [
        "#Polymorphism\n",
        "\n",
        "class Person:\n",
        "    def __init__(self, name, age):\n",
        "        self.name = name\n",
        "        self.age = age\n",
        "\n",
        "#Inherits the attirbutes of a person\n",
        "class Student(Person):\n",
        "    def traits(self):\n",
        "        return(\" Studying, Playing, SInging, Dancing\")\n",
        "\n",
        "\n",
        "class Teacher(Person):\n",
        "  def traits(self):\n",
        "    return( \"Teaching, Encoding, Socializing, Participating\")\n",
        "\n",
        "\n",
        "student = Student(\"Anna\", 20)\n",
        "teacher = Teacher(\"Ma'am Sayo\", 41)\n",
        "\n",
        "student.traits()\n",
        "teacher.traits()\n",
        "\n",
        "print(\"As a student, I do\", student.traits())\n",
        "print(\"As a teacher, I do\", teacher.traits())\n"
      ]
    },
    {
      "cell_type": "markdown",
      "source": [
        "**Challenge #1**"
      ],
      "metadata": {
        "id": "Z7dUjeuIVb4v"
      }
    },
    {
      "cell_type": "code",
      "source": [
        "class Card:\n",
        "    def __init__(self, suit, value):\n",
        "        self.suit = suit\n",
        "        self.value = value\n",
        "\n",
        "class ChanceColor(Card):\n",
        "    def IsRed(self):\n",
        "      print(\"RED OR BLACK\\nYou Picked Red\")\n",
        "      if self.suit == \"Hearts\" or \"Diamonds\":\n",
        "            return \"YOU WIN! The card is red\\n\"\n",
        "      else:\n",
        "            return \"YOU LOST! The card is black\\n\"\n",
        "\n",
        "    def IsBlack(self):\n",
        "       print(\"RED OR BLACK\\nYou Picked Black\")\n",
        "       if self.suit == \"Black\":\n",
        "          return \"YOU WIN! The card is black\\n\"\n",
        "       else:\n",
        "          return \"YOU LOST! The card is red\\n\"\n",
        "\n",
        "class HigherLower(Card):\n",
        "    def IsHigher(self):\n",
        "        print(\"HIGHER OR LOWER\\nYou Picked Higher\")\n",
        "        if self.value >= 7:\n",
        "            return \"YOU WIN! The card is a Higher number\\n\"\n",
        "        else:\n",
        "            return \"YOU Lost! The card is a Lower number\\n\"\n",
        "\n",
        "    def IsLower(self):\n",
        "        print(\"HIGHER OR LOWER\\nYou Picked Lower\")\n",
        "        if self.value <= 7:\n",
        "            return \"YOU WIN! The card is a Lower number\\n\"\n",
        "        else:\n",
        "            return \"YOU Lost! The card is a Higher number\\n\"\n",
        "\n",
        "card1 = ChanceColor(\"Hearts\", 8)\n",
        "card2 = ChanceColor(\"Spades\", 2)\n",
        "card3 = HigherLower(\"Diamonds\", 11)\n",
        "card4 = HigherLower(\"Clubs\", 9)\n",
        "\n",
        "print(f\" The card drawn is {card1.value} of {card1.suit}\\n\",card1.IsRed())\n",
        "print(f\" The card drawn is {card2.value} of {card2.suit}\\n\",card2.IsBlack())\n",
        "print(f\" The card drawn is {card3.value} of {card3.suit}\\n\",card3.IsHigher())\n",
        "print(f\" The card drawn is {card4.value} of {card4.suit}\\n\",card4.IsLower())"
      ],
      "metadata": {
        "colab": {
          "base_uri": "https://localhost:8080/"
        },
        "id": "94_JPHe_VHgf",
        "outputId": "4bd338ab-9db8-4c92-abcc-cf0a9264c1eb"
      },
      "execution_count": 29,
      "outputs": [
        {
          "output_type": "stream",
          "name": "stdout",
          "text": [
            "RED OR BLACK\n",
            "You Picked Red\n",
            " The card drawn is 8 of Hearts\n",
            " YOU WIN! The card is red\n",
            "\n",
            "RED OR BLACK\n",
            "You Picked Black\n",
            " The card drawn is 2 of Spades\n",
            " YOU LOST! The card is red\n",
            "\n",
            "HIGHER OR LOWER\n",
            "You Picked Higher\n",
            " The card drawn is 11 of Diamonds\n",
            " YOU WIN! The card is a Higher number\n",
            "\n",
            "HIGHER OR LOWER\n",
            "You Picked Lower\n",
            " The card drawn is 9 of Clubs\n",
            " YOU Lost! The card is a Higher number\n",
            "\n"
          ]
        }
      ]
    }
  ]
}