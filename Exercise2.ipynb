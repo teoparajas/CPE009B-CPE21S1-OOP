{
  "nbformat": 4,
  "nbformat_minor": 0,
  "metadata": {
    "colab": {
      "provenance": [],
      "authorship_tag": "ABX9TyPcokpKyY9CQjYhga7HYSfg",
      "include_colab_link": true
    },
    "kernelspec": {
      "name": "python3",
      "display_name": "Python 3"
    },
    "language_info": {
      "name": "python"
    }
  },
  "cells": [
    {
      "cell_type": "markdown",
      "metadata": {
        "id": "view-in-github",
        "colab_type": "text"
      },
      "source": [
        "<a href=\"https://colab.research.google.com/github/teoparajas/ParajasCPE009B-CPE21S1-OOP2/blob/main/Exercise2.ipynb\" target=\"_parent\"><img src=\"https://colab.research.google.com/assets/colab-badge.svg\" alt=\"Open In Colab\"/></a>"
      ]
    },
    {
      "cell_type": "code",
      "execution_count": 34,
      "metadata": {
        "colab": {
          "base_uri": "https://localhost:8080/"
        },
        "id": "R6qL2uhLPsZS",
        "outputId": "240c26dd-16e3-451a-d0ce-9e5e870c03bf"
      },
      "outputs": [
        {
          "output_type": "stream",
          "name": "stdout",
          "text": [
            "Input Grade: 45\n",
            "Failed\n"
          ]
        }
      ],
      "source": [
        "a= float(input(\"Input Grade: \"))\n",
        "\n",
        "if a > 75 or a == 75:\n",
        "  print(\"Passed\")\n",
        "elif a == 74:\n",
        "  print(\"Remedial\")\n",
        "elif a < 74 and a >= 0:\n",
        "  print(\"Failed\")\n",
        "elif a < 0:\n",
        "  print(\"Negative number not accepted\")\n",
        "else:\n",
        "  print(\"Invalid input\")"
      ]
    }
  ]
}