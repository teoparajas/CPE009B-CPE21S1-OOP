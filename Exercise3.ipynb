{
  "nbformat": 4,
  "nbformat_minor": 0,
  "metadata": {
    "colab": {
      "provenance": [],
      "authorship_tag": "ABX9TyOkUepmKBZa1Noj0kcra1jg",
      "include_colab_link": true
    },
    "kernelspec": {
      "name": "python3",
      "display_name": "Python 3"
    },
    "language_info": {
      "name": "python"
    }
  },
  "cells": [
    {
      "cell_type": "markdown",
      "metadata": {
        "id": "view-in-github",
        "colab_type": "text"
      },
      "source": [
        "<a href=\"https://colab.research.google.com/github/teoparajas/ParajasCPE009B-CPE21S1-OOP2/blob/main/Exercise3.ipynb\" target=\"_parent\"><img src=\"https://colab.research.google.com/assets/colab-badge.svg\" alt=\"Open In Colab\"/></a>"
      ]
    },
    {
      "cell_type": "markdown",
      "source": [
        "**NOTES**"
      ],
      "metadata": {
        "id": "_cFNhGkOZnZk"
      }
    },
    {
      "cell_type": "code",
      "execution_count": 3,
      "metadata": {
        "id": "uiR2XFUIItWQ"
      },
      "outputs": [],
      "source": [
        "class Myclass:\n",
        "  def __init__(self,name,color):\n",
        "    self.name = name\n",
        "    self.color = color"
      ]
    },
    {
      "cell_type": "code",
      "source": [
        "class Car:\n",
        "  def __init__(self,name,milage):\n",
        "    self.name = name\n",
        "    self.milage = milage\n",
        "\n",
        "  def description(self):\n",
        "    return f\"The {self.name} car gives the milage of {self.milage}km/l\"\n",
        "\n",
        "car = Car(\"Sedan\",87)\n",
        "print(car.name)\n",
        "print(car.description())"
      ],
      "metadata": {
        "colab": {
          "base_uri": "https://localhost:8080/"
        },
        "id": "og_u0-UyLW0G",
        "outputId": "c278cd9a-cc5a-4da3-8c82-3fd6b4e533c9"
      },
      "execution_count": 19,
      "outputs": [
        {
          "output_type": "stream",
          "name": "stdout",
          "text": [
            "Sedan\n",
            "The Sedan car gives the milage of 87km/l\n"
          ]
        }
      ]
    },
    {
      "cell_type": "code",
      "source": [
        "class Car:\n",
        "  def __init__(self,name,color):\n",
        "    self.name = name\n",
        "    self.color = color\n",
        "\n",
        "  def description(self):\n",
        "    return f\"The {self.name} car has a color {self.color}\"\n",
        "\n",
        "class BMW(Car):\n",
        "  pass\n",
        "\n",
        "class Audi(Car):\n",
        "  def audi_Des(self):\n",
        "    return f\"The {self.name} description {self.color} of Audi\"\n",
        "car = Car(\"Sedan\",\"Black\")\n",
        "bmw = BMW(\"meow\",\"red\")\n",
        "print(car.description())\n",
        "print(bmw.description())\n"
      ],
      "metadata": {
        "colab": {
          "base_uri": "https://localhost:8080/"
        },
        "id": "FqMO2s8GN3PM",
        "outputId": "77951280-e13d-45e4-b0af-9add14b0225c"
      },
      "execution_count": 31,
      "outputs": [
        {
          "output_type": "stream",
          "name": "stdout",
          "text": [
            "The Sedan car has a color Black\n",
            "The meow car has a color red\n"
          ]
        }
      ]
    },
    {
      "cell_type": "markdown",
      "source": [
        "**EXERCISE 3**"
      ],
      "metadata": {
        "id": "3MHvi6UpZtkr"
      }
    },
    {
      "cell_type": "code",
      "source": [
        "class Rectangle:\n",
        "  def __init__(self,length,width):\n",
        "    self.length = length\n",
        "    self.width = width\n",
        "\n",
        "\n",
        "  def perimeter(self):\n",
        "    perim = 2*(self.length + self.width)\n",
        "    return f\"The perimeter of the rectangle is {perim}\"\n",
        "\n",
        "  def area(self):\n",
        "    area = self.length * self.width\n",
        "    return f\"The area of the rectangle is {area}\"\n",
        "\n",
        "rectangle = Rectangle(21,21)\n",
        "string = f\"Rectangle given Length: {rectangle.length} , given width: {rectangle.width}\"\n",
        "\n",
        "print(string)\n",
        "print(rectangle.perimeter())\n",
        "print(rectangle.area())"
      ],
      "metadata": {
        "colab": {
          "base_uri": "https://localhost:8080/"
        },
        "id": "lvrz_uknQXSv",
        "outputId": "ed1364d2-a8a4-48bc-b4b2-c99c51c7c1bf"
      },
      "execution_count": 45,
      "outputs": [
        {
          "output_type": "stream",
          "name": "stdout",
          "text": [
            "Rectangle given Length: 21 , given width: 21\n",
            "The perimeter of the rectangle is 84\n",
            "The area of the rectangle is 441\n"
          ]
        }
      ]
    }
  ]
}