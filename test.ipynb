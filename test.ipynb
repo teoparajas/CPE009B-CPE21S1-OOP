{
  "nbformat": 4,
  "nbformat_minor": 0,
  "metadata": {
    "colab": {
      "provenance": [],
      "toc_visible": true,
      "authorship_tag": "ABX9TyOaLD3+oZkO2bHQdwIJ/0pm",
      "include_colab_link": true
    },
    "kernelspec": {
      "name": "python3",
      "display_name": "Python 3"
    },
    "language_info": {
      "name": "python"
    }
  },
  "cells": [
    {
      "cell_type": "markdown",
      "metadata": {
        "id": "view-in-github",
        "colab_type": "text"
      },
      "source": [
        "<a href=\"https://colab.research.google.com/github/teoparajas/ParajasCPE009B-CPE21S1-OOP2/blob/main/Exercise4.ipynb\" target=\"_parent\"><img src=\"https://colab.research.google.com/assets/colab-badge.svg\" alt=\"Open In Colab\"/></a>"
      ]
    },
    {
      "cell_type": "code",
      "execution_count": 6,
      "metadata": {
        "colab": {
          "base_uri": "https://localhost:8080/"
        },
        "id": "QQUuBfbhKvTj",
        "outputId": "bfe461d7-b7f8-466e-ce81-2921e34b09e3"
      },
      "outputs": [
        {
          "output_type": "execute_result",
          "data": {
            "text/plain": [
              "7"
            ]
          },
          "metadata": {},
          "execution_count": 6
        }
      ],
      "source": [
        "class foo:\n",
        "  def __init__(self, a, b):\n",
        "    self.a = a\n",
        "    self.b = b\n",
        "\n",
        "  def add(self):\n",
        "    return self.a + self.b\n",
        "\n",
        "foo_object = foo(3, 4)\n",
        "foo_object.add()"
      ]
    },
    {
      "cell_type": "code",
      "source": [
        "class Person:\n",
        "  def __init__(self, name, age):\n",
        "    self.name = name\n",
        "    self.age = age\n",
        "\n",
        "  def display(self):\n",
        "    return f'My name is {self.name} and my age is {self.age}'\n",
        "\n",
        "p1 = Person(\"Ana\", 15)\n",
        "p1.display()"
      ],
      "metadata": {
        "colab": {
          "base_uri": "https://localhost:8080/",
          "height": 35
        },
        "id": "GuZWsAO2MzAG",
        "outputId": "796b036a-ee8c-4a76-e4fd-4f63172151d6"
      },
      "execution_count": 96,
      "outputs": [
        {
          "output_type": "execute_result",
          "data": {
            "text/plain": [
              "'My name is Ana and my age is 15'"
            ],
            "application/vnd.google.colaboratory.intrinsic+json": {
              "type": "string"
            }
          },
          "metadata": {},
          "execution_count": 96
        }
      ]
    },
    {
      "cell_type": "code",
      "source": [
        "class Counter:\n",
        "  def __init__(self):\n",
        "    self.current = 0\n",
        "\n",
        "  def increment(self):\n",
        "    self.current += 1\n",
        "\n",
        "  def value(self):\n",
        "    return self.current\n",
        "\n",
        "  def reset(self):\n",
        "    self.current = 0\n",
        "\n",
        "a = Counter()\n",
        "a.increment()\n",
        "a.increment()\n",
        "a.increment()\n",
        "a.value()"
      ],
      "metadata": {
        "colab": {
          "base_uri": "https://localhost:8080/"
        },
        "id": "zWNc7dcyOzhG",
        "outputId": "b10e57a6-f271-40a1-ca95-8cd374433d87"
      },
      "execution_count": 97,
      "outputs": [
        {
          "output_type": "execute_result",
          "data": {
            "text/plain": [
              "3"
            ]
          },
          "metadata": {},
          "execution_count": 97
        }
      ]
    },
    {
      "cell_type": "code",
      "source": [
        "class RegularPolygon:\n",
        "  def __init__(self,side):\n",
        "    self.side = side\n",
        "\n",
        "class Square(RegularPolygon):\n",
        "  def area(self):\n",
        "    return self.side * self.side\n",
        "\n",
        "class EquilateralTriangle(RegularPolygon):\n",
        "  def area(self):\n",
        "    return self.side * self.side * 0.433\n",
        "\n",
        "obj1 = Square(1)\n",
        "obj2 = EquilateralTriangle(1)\n",
        "\n",
        "print(obj1.area())\n",
        "print(obj2.area())"
      ],
      "metadata": {
        "colab": {
          "base_uri": "https://localhost:8080/"
        },
        "id": "Z6pRhms6RBN2",
        "outputId": "64a72bc4-679d-4d70-e756-a0c702d48ae7"
      },
      "execution_count": 94,
      "outputs": [
        {
          "output_type": "stream",
          "name": "stdout",
          "text": [
            "1\n",
            "0.433\n"
          ]
        }
      ]
    },
    {
      "cell_type": "markdown",
      "source": [
        "**APPLICATION 1**"
      ],
      "metadata": {
        "id": "pAZ7OdHZgEec"
      }
    },
    {
      "cell_type": "code",
      "source": [
        "class Grade:\n",
        "  def __init__(self, name, prelim, midterm, final):\n",
        "    self.name = name\n",
        "    self.prelim = prelim\n",
        "    self.midterm = midterm\n",
        "    self.final = final\n",
        "\n",
        "\n",
        "  def calculate_grade(self):\n",
        "     print(float(self.prelim + self.midterm + self.final) / 3)\n",
        "\n",
        "  def out(self):\n",
        "    print(f\"Student name = {self.name}\")\n",
        "    print(f\"Prelim Grade = {self.prelim}\")\n",
        "    print(f\"Midtem Grade = {self.midterm}\")\n",
        "    print(f\"Final Grade = {self.final}\")\n",
        "\n",
        "student_name = {\"John Doe\", \"Jomari Nietes\", \"Jimwell Montefalco\"}\n",
        "password = [1111, 9876, 6969]\n",
        "student1 = Grade(\"John Doe\", 80, 85, 90)\n",
        "student2 = Grade(\"Jomari Nietes\", 75, 20, 100)\n",
        "student3 = Grade(\"Jimwell Montefalco\", 10, 10, 100)\n",
        "str1 = input((\"Input your full name to view grade:\" ))\n",
        "\n",
        "\n",
        "if str1 in student_name:\n",
        "  if str1 == \"John Doe\":\n",
        "    str2 = int(input(\"Input passcode: \"))\n",
        "    if str2 == password[0]:\n",
        "      student1.out()\n",
        "      student1.calculate_grade()\n",
        "    else:\n",
        "      print(\"Incorrect passcode\")\n",
        "  elif str1 == \"Jomari Nietes\":\n",
        "    str2 = int(input(\"Input passcode: \"))\n",
        "    if str2 == password[1]:\n",
        "      student2.out()\n",
        "      student2.calculate_grade()\n",
        "    else:\n",
        "      print(\"Incorrect passcode\")\n",
        "  elif str1 == \"Jimwell Montefalco\":\n",
        "    str2 = int(input(\"Input passcode: \"))\n",
        "    if str2 == password[2]:\n",
        "      student3.out()\n",
        "      student3.calculate_grade()\n",
        "    else:\n",
        "      print(\"Incorrect passcode\")\n",
        "\n",
        "\n",
        "else:\n",
        "  print(\"Not in the Database\")\n"
      ],
      "metadata": {
        "colab": {
          "base_uri": "https://localhost:8080/"
        },
        "id": "jvJrU2eib660",
        "outputId": "41e89468-f614-478c-ef03-ae2c559bfc49"
      },
      "execution_count": 93,
      "outputs": [
        {
          "output_type": "stream",
          "name": "stdout",
          "text": [
            "Input your full name to view grade:John Doe\n",
            "Input passcode: 1111\n",
            "Student name = John Doe\n",
            "Prelim Grade = 80\n",
            "Midtem Grade = 85\n",
            "Final Grade = 90\n",
            "85.0\n"
          ]
        }
      ]
    }
  ]
}
